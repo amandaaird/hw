{
 "cells": [
  {
   "cell_type": "markdown",
   "id": "3a2b7565-24c3-4521-920c-c33ad9fbc074",
   "metadata": {},
   "source": [
    "# MovieLen data preparation\n",
    "\n",
    "For reference!\n",
    "\n",
    "This is how I prepared the data for Homework 2."
   ]
  },
  {
   "cell_type": "markdown",
   "id": "4897367a-5b06-4e6f-ab28-81b897d3f608",
   "metadata": {},
   "source": [
    "## Import LensKit\n",
    "\n",
    "Has good tools for data handling"
   ]
  },
  {
   "cell_type": "code",
   "execution_count": 10,
   "id": "6ba5f56d-d076-4532-88b9-67d97fb35531",
   "metadata": {},
   "outputs": [
    {
     "name": "stdout",
     "output_type": "stream",
     "text": [
      "Requirement already satisfied: lenskit in /Users/robinburke/opt/anaconda3/lib/python3.9/site-packages (0.14.2)\n",
      "Requirement already satisfied: scipy>=1.2 in /Users/robinburke/opt/anaconda3/lib/python3.9/site-packages (from lenskit) (1.9.1)\n",
      "Requirement already satisfied: binpickle>=0.3.2 in /Users/robinburke/opt/anaconda3/lib/python3.9/site-packages (from lenskit) (0.3.4)\n",
      "Requirement already satisfied: numpy>=1.17 in /Users/robinburke/opt/anaconda3/lib/python3.9/site-packages (from lenskit) (1.21.5)\n",
      "Requirement already satisfied: seedbank>=0.1.0 in /Users/robinburke/opt/anaconda3/lib/python3.9/site-packages (from lenskit) (0.1.3)\n",
      "Requirement already satisfied: csr>=0.3.1 in /Users/robinburke/opt/anaconda3/lib/python3.9/site-packages (from lenskit) (0.5.1)\n",
      "Requirement already satisfied: numba<0.57,>=0.51 in /Users/robinburke/opt/anaconda3/lib/python3.9/site-packages (from lenskit) (0.55.2)\n",
      "Requirement already satisfied: pandas==1.*,>=1.0 in /Users/robinburke/opt/anaconda3/lib/python3.9/site-packages (from lenskit) (1.4.4)\n",
      "Requirement already satisfied: psutil>=5 in /Users/robinburke/opt/anaconda3/lib/python3.9/site-packages (from lenskit) (5.9.2)\n",
      "Requirement already satisfied: cffi>=1.12.2 in /Users/robinburke/opt/anaconda3/lib/python3.9/site-packages (from lenskit) (1.15.1)\n",
      "Requirement already satisfied: python-dateutil>=2.8.1 in /Users/robinburke/opt/anaconda3/lib/python3.9/site-packages (from pandas==1.*,>=1.0->lenskit) (2.8.2)\n",
      "Requirement already satisfied: pytz>=2020.1 in /Users/robinburke/opt/anaconda3/lib/python3.9/site-packages (from pandas==1.*,>=1.0->lenskit) (2022.2.1)\n",
      "Requirement already satisfied: msgpack>=1.0 in /Users/robinburke/opt/anaconda3/lib/python3.9/site-packages (from binpickle>=0.3.2->lenskit) (1.0.4)\n",
      "Requirement already satisfied: pycparser in /Users/robinburke/opt/anaconda3/lib/python3.9/site-packages (from cffi>=1.12.2->lenskit) (2.21)\n",
      "Requirement already satisfied: llvmlite<0.39,>=0.38.0rc1 in /Users/robinburke/opt/anaconda3/lib/python3.9/site-packages (from numba<0.57,>=0.51->lenskit) (0.38.1)\n",
      "Requirement already satisfied: setuptools in /Users/robinburke/opt/anaconda3/lib/python3.9/site-packages (from numba<0.57,>=0.51->lenskit) (65.3.0)\n",
      "Requirement already satisfied: six>=1.5 in /Users/robinburke/opt/anaconda3/lib/python3.9/site-packages (from python-dateutil>=2.8.1->pandas==1.*,>=1.0->lenskit) (1.16.0)\n",
      "Requirement already satisfied: anyconfig==0.13.* in /Users/robinburke/opt/anaconda3/lib/python3.9/site-packages (from seedbank>=0.1.0->lenskit) (0.13.0)\n"
     ]
    }
   ],
   "source": [
    "import sys\n",
    "!{sys.executable} -m pip install lenskit"
   ]
  },
  {
   "cell_type": "code",
   "execution_count": null,
   "id": "0aa03e33-e6f9-4f65-9088-8e09f33974eb",
   "metadata": {},
   "outputs": [],
   "source": [
    "from numpy import random\n",
    "from lenskit.datasets import MovieLens\n",
    "import lenskit.crossfold as xf"
   ]
  },
  {
   "cell_type": "markdown",
   "id": "f7f86ec2-457c-4db5-bd2b-b2788c540336",
   "metadata": {},
   "source": [
    "## Load the data"
   ]
  },
  {
   "cell_type": "code",
   "execution_count": 11,
   "id": "253501aa-9d64-4def-bcb2-2afb65d02100",
   "metadata": {},
   "outputs": [],
   "source": [
    "ds = MovieLens('~/Downloads/ml-25m')"
   ]
  },
  {
   "cell_type": "markdown",
   "id": "7171704e-fdea-4a07-8908-d040542b9a6f",
   "metadata": {},
   "source": [
    "## Choose a small subset\n",
    "\n",
    "Sample approx. 2.5% of the users (4000) just to make the homework tractable"
   ]
  },
  {
   "cell_type": "code",
   "execution_count": 12,
   "id": "b488877a-9e03-4a83-a075-db2f91e8d4f9",
   "metadata": {},
   "outputs": [],
   "source": [
    "users = ds.ratings['user'].unique()"
   ]
  },
  {
   "cell_type": "code",
   "execution_count": 16,
   "id": "91f707e0-3a19-40db-b10b-c1606ba9a33e",
   "metadata": {},
   "outputs": [
    {
     "data": {
      "text/plain": [
       "162541"
      ]
     },
     "execution_count": 16,
     "metadata": {},
     "output_type": "execute_result"
    }
   ],
   "source": [
    "len(users)"
   ]
  },
  {
   "cell_type": "code",
   "execution_count": 18,
   "id": "3e108c65-f2ba-4237-96f3-56846fd0e07d",
   "metadata": {},
   "outputs": [],
   "source": [
    "users_4k = random.choice(users, 4000)"
   ]
  },
  {
   "cell_type": "code",
   "execution_count": 21,
   "id": "1ab5179f-3e63-45d4-8e94-d7b18e1f6fbd",
   "metadata": {},
   "outputs": [],
   "source": [
    "ratings_4k = ds.ratings[ds.ratings['user'].isin(users_4k)]"
   ]
  },
  {
   "cell_type": "code",
   "execution_count": 29,
   "id": "9d27f077-e9c1-4648-b3b1-364b06256813",
   "metadata": {},
   "outputs": [
    {
     "data": {
      "text/html": [
       "<div>\n",
       "<style scoped>\n",
       "    .dataframe tbody tr th:only-of-type {\n",
       "        vertical-align: middle;\n",
       "    }\n",
       "\n",
       "    .dataframe tbody tr th {\n",
       "        vertical-align: top;\n",
       "    }\n",
       "\n",
       "    .dataframe thead th {\n",
       "        text-align: right;\n",
       "    }\n",
       "</style>\n",
       "<table border=\"1\" class=\"dataframe\">\n",
       "  <thead>\n",
       "    <tr style=\"text-align: right;\">\n",
       "      <th></th>\n",
       "      <th>user</th>\n",
       "      <th>item</th>\n",
       "      <th>rating</th>\n",
       "      <th>timestamp</th>\n",
       "    </tr>\n",
       "  </thead>\n",
       "  <tbody>\n",
       "    <tr>\n",
       "      <th>count</th>\n",
       "      <td>609165.000000</td>\n",
       "      <td>609165.000000</td>\n",
       "      <td>609165.000000</td>\n",
       "      <td>6.091650e+05</td>\n",
       "    </tr>\n",
       "    <tr>\n",
       "      <th>mean</th>\n",
       "      <td>82896.185630</td>\n",
       "      <td>20697.145033</td>\n",
       "      <td>3.555168</td>\n",
       "      <td>1.211100e+09</td>\n",
       "    </tr>\n",
       "    <tr>\n",
       "      <th>std</th>\n",
       "      <td>46934.272073</td>\n",
       "      <td>38477.642446</td>\n",
       "      <td>1.068208</td>\n",
       "      <td>2.258935e+08</td>\n",
       "    </tr>\n",
       "    <tr>\n",
       "      <th>min</th>\n",
       "      <td>12.000000</td>\n",
       "      <td>1.000000</td>\n",
       "      <td>0.500000</td>\n",
       "      <td>8.228736e+08</td>\n",
       "    </tr>\n",
       "    <tr>\n",
       "      <th>25%</th>\n",
       "      <td>42992.000000</td>\n",
       "      <td>1197.000000</td>\n",
       "      <td>3.000000</td>\n",
       "      <td>1.008047e+09</td>\n",
       "    </tr>\n",
       "    <tr>\n",
       "      <th>50%</th>\n",
       "      <td>82570.000000</td>\n",
       "      <td>2918.000000</td>\n",
       "      <td>4.000000</td>\n",
       "      <td>1.186240e+09</td>\n",
       "    </tr>\n",
       "    <tr>\n",
       "      <th>75%</th>\n",
       "      <td>123534.000000</td>\n",
       "      <td>8254.000000</td>\n",
       "      <td>4.000000</td>\n",
       "      <td>1.441574e+09</td>\n",
       "    </tr>\n",
       "    <tr>\n",
       "      <th>max</th>\n",
       "      <td>162499.000000</td>\n",
       "      <td>208741.000000</td>\n",
       "      <td>5.000000</td>\n",
       "      <td>1.574310e+09</td>\n",
       "    </tr>\n",
       "  </tbody>\n",
       "</table>\n",
       "</div>"
      ],
      "text/plain": [
       "                user           item         rating     timestamp\n",
       "count  609165.000000  609165.000000  609165.000000  6.091650e+05\n",
       "mean    82896.185630   20697.145033       3.555168  1.211100e+09\n",
       "std     46934.272073   38477.642446       1.068208  2.258935e+08\n",
       "min        12.000000       1.000000       0.500000  8.228736e+08\n",
       "25%     42992.000000    1197.000000       3.000000  1.008047e+09\n",
       "50%     82570.000000    2918.000000       4.000000  1.186240e+09\n",
       "75%    123534.000000    8254.000000       4.000000  1.441574e+09\n",
       "max    162499.000000  208741.000000       5.000000  1.574310e+09"
      ]
     },
     "execution_count": 29,
     "metadata": {},
     "output_type": "execute_result"
    }
   ],
   "source": [
    "ratings_4k.describe()"
   ]
  },
  {
   "cell_type": "markdown",
   "id": "0d89a229-e40c-4ab0-9d54-92fee4781d81",
   "metadata": {},
   "source": [
    "### Drop items with frequency less than 10"
   ]
  },
  {
   "cell_type": "code",
   "execution_count": 32,
   "id": "67eb2f7f-e3d2-4168-9d49-aa819b2289fe",
   "metadata": {},
   "outputs": [],
   "source": [
    "count_table = ratings_4k['item'].value_counts()"
   ]
  },
  {
   "cell_type": "code",
   "execution_count": 45,
   "id": "0bd0f27c-c111-4521-bd23-ea1ca8274dfa",
   "metadata": {},
   "outputs": [],
   "source": [
    "count_table_10 = count_table[count_table > 10]"
   ]
  },
  {
   "cell_type": "code",
   "execution_count": 46,
   "id": "75a506b2-a0dc-4a7d-97c8-1bfe5115e10d",
   "metadata": {},
   "outputs": [],
   "source": [
    "ratings_4k_2 = ratings_4k[ratings_4k['item'].isin(count_table_10.index)]"
   ]
  },
  {
   "cell_type": "code",
   "execution_count": 49,
   "id": "51cf00a4-b675-40fb-bfb8-3fe1aa9dbcba",
   "metadata": {},
   "outputs": [
    {
     "data": {
      "text/plain": [
       "100260    2215\n",
       "129695    2033\n",
       "122236    1949\n",
       "75582     1773\n",
       "132754    1772\n",
       "          ... \n",
       "105801      13\n",
       "132887      10\n",
       "18247       10\n",
       "59669       10\n",
       "109980       3\n",
       "Name: user, Length: 3957, dtype: int64"
      ]
     },
     "execution_count": 49,
     "metadata": {},
     "output_type": "execute_result"
    }
   ],
   "source": [
    "ratings_4k_2['user'].value_counts()"
   ]
  },
  {
   "cell_type": "markdown",
   "id": "997e7e4b-cd68-4a91-bac4-02beada2983b",
   "metadata": {},
   "source": [
    "There's one user with only three ratings now. Drop that one."
   ]
  },
  {
   "cell_type": "code",
   "execution_count": 51,
   "id": "c9b604dc-b9cc-42d4-8225-63a7cf943565",
   "metadata": {},
   "outputs": [],
   "source": [
    "ratings_4k_final = ratings_4k_2[ratings_4k_2['user']!=109980]"
   ]
  },
  {
   "cell_type": "markdown",
   "id": "323e487f-a0e9-43a8-9f5b-80f86c3c7e90",
   "metadata": {},
   "source": [
    "## Create train/test partitions of the data\n",
    "\n",
    "The `partition_users` method says we are splitting user profiles. The `SampleN` method ensures that there are a fixed # of test items per user."
   ]
  },
  {
   "cell_type": "code",
   "execution_count": 55,
   "id": "8d392f53-a38a-47bf-b899-b593d644a5d2",
   "metadata": {},
   "outputs": [],
   "source": [
    "testRowsPerUsers = 5\n",
    "for i, tp in enumerate(xf.partition_users(ratings_4k_final, 5, xf.SampleN(testRowsPerUsers)), 1):\n",
    "    #_log.info('writing train set %d', i)\n",
    "    tp.train.to_csv(f'train-{i}.csv', index=False)\n",
    "    #_log.info('writing test set %d', i)\n",
    "    tp.test.to_csv(f'test-{i}.csv', index=False)"
   ]
  },
  {
   "cell_type": "markdown",
   "id": "2575c939-7e77-40cd-9ba5-ee42449989ea",
   "metadata": {},
   "source": [
    "## Get the relevant tag information\n",
    "\n",
    "The tags only for the movies that are in the (filtered) dataset."
   ]
  },
  {
   "cell_type": "code",
   "execution_count": 61,
   "id": "45d54672-9072-46e1-8327-e80ed98b3136",
   "metadata": {},
   "outputs": [],
   "source": [
    "my_movies = ratings_4k_final['item'].unique()"
   ]
  },
  {
   "cell_type": "code",
   "execution_count": 59,
   "id": "94b9055b-9406-4e9a-9944-4969963ef60a",
   "metadata": {},
   "outputs": [],
   "source": [
    "import pandas as pd\n",
    "\n",
    "tags_df = pd.read_csv('~/Downloads/ml-25m/genome-scores.csv')"
   ]
  },
  {
   "cell_type": "code",
   "execution_count": 62,
   "id": "7ace63d8-60c1-4bed-864b-4188d406bb7d",
   "metadata": {},
   "outputs": [],
   "source": [
    "tags_selected = tags_df[tags_df['movieId'].isin(my_movies)]"
   ]
  },
  {
   "cell_type": "code",
   "execution_count": 65,
   "id": "4379d59e-7916-4575-8712-949488694673",
   "metadata": {},
   "outputs": [
    {
     "data": {
      "text/plain": [
       "5709"
      ]
     },
     "execution_count": 65,
     "metadata": {},
     "output_type": "execute_result"
    }
   ],
   "source": [
    "len(tags_selected['movieId'].unique())"
   ]
  },
  {
   "cell_type": "code",
   "execution_count": 67,
   "id": "622ae00b-91c4-487a-95db-c87d5c8c56b7",
   "metadata": {},
   "outputs": [],
   "source": [
    "tags_selected.to_csv('sample-genome-scores.csv', index=False)"
   ]
  },
  {
   "cell_type": "code",
   "execution_count": null,
   "id": "fdad88a0-9e39-4166-90bc-7797a6a60620",
   "metadata": {},
   "outputs": [],
   "source": []
  }
 ],
 "metadata": {
  "kernelspec": {
   "display_name": "Python 3 (ipykernel)",
   "language": "python",
   "name": "python3"
  },
  "language_info": {
   "codemirror_mode": {
    "name": "ipython",
    "version": 3
   },
   "file_extension": ".py",
   "mimetype": "text/x-python",
   "name": "python",
   "nbconvert_exporter": "python",
   "pygments_lexer": "ipython3",
   "version": "3.9.13"
  }
 },
 "nbformat": 4,
 "nbformat_minor": 5
}
