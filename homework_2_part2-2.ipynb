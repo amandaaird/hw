{
 "cells": [
  {
   "cell_type": "markdown",
   "id": "bcb809a9-acd4-4508-b9db-41c8542020eb",
   "metadata": {},
   "source": [
    "# Homework 2 solution (Part 2)\n",
    "\n",
    "Tasks in this part of the homework:\n",
    "\n",
    "* Write a diversity evaluator based on the Evaluator framework for Surprise that we built in Lab 2. You will make use of the \"tag genome\" data from MovieLens.\n",
    "* Write a novelty / surprisal evaluator based on the Evaluator framework for Surprise\n",
    "* Using the extended test data created in Part 1,\n",
    "    * Using this test data, generate recommendations, create recommendation lists (using the `UserPrediction` code), and evaluate these recommendations using 5-fold cross-validation as follows:\n",
    "    * `BaselineOnly` algorithm\n",
    "    * `SVD` (biased matrix factorization) with three different numbers of factors (25, 50, 100) and three different regularization `reg_all` values (0.1, 0.01, 0.001). \n",
    "* Display your results in scatterplots of diversity vs ndcg and surprisal vs ndcg.\n",
    "\n",
    "The 5-fold cross-validation will take a while to run. Be sure to leave plenty of time and test your code on small subsets of the data before investing in length computing runs. Also, it might be a good idea to save intermediate results along the way so that if it crashes along the way, you don't have to re-compute everything. \n"
   ]
  },
  {
   "cell_type": "markdown",
   "id": "7b3b9f8f-fef7-462b-97d2-3da95d82aeee",
   "metadata": {},
   "source": [
    "## Imports"
   ]
  },
  {
   "cell_type": "code",
   "execution_count": null,
   "id": "d1d9db01-2063-45da-b65e-ea20c261f6a3",
   "metadata": {},
   "outputs": [],
   "source": [
    "import sys\n",
    "!{sys.executable} -m pip install surprise\n",
    "#pip install icecream"
   ]
  },
  {
   "cell_type": "code",
   "execution_count": 93,
   "id": "e7e07894-c1c1-4644-8ace-174da75ecdbc",
   "metadata": {},
   "outputs": [],
   "source": [
    "import surprise\n",
    "from surprise.prediction_algorithms.predictions import Prediction\n",
    "from surprise import Dataset, BaselineOnly, Reader, SVD\n",
    "from surprise.model_selection import PredefinedKFold\n",
    "\n",
    "from collections import defaultdict\n",
    "from itertools import combinations, product\n",
    "import pandas as pd\n",
    "import numpy as np\n",
    "import pickle\n",
    "from abc import ABC, abstractmethod\n",
    "import seaborn as sb"
   ]
  },
  {
   "cell_type": "markdown",
   "id": "ee8c164b-4b61-4db2-9efb-53e13583c81e",
   "metadata": {},
   "source": [
    "## From class\n",
    "\n",
    "### Encapsulating recommendation lists"
   ]
  },
  {
   "cell_type": "code",
   "execution_count": 4,
   "id": "5a87ecf3-9ff3-4d73-a002-5ac3a0454853",
   "metadata": {},
   "outputs": [],
   "source": [
    "class UserRecommendations:\n",
    "    \n",
    "    def __init__(self):\n",
    "        self.recs = []\n",
    "        \n",
    "    def add_entry(self, entry):\n",
    "        self.recs.append(entry)\n",
    "        \n",
    "    def select_top(self, k):\n",
    "        self.recs = sorted(self.recs, key=lambda entry: entry.est, reverse=True)\n",
    "        if len(self.recs) > k:\n",
    "            self.recs = self.recs[0:k]\n",
    "            \n",
    "        \n",
    "class TestRecommendations:\n",
    "    \n",
    "    def __init__(self):\n",
    "        self.test_recs = defaultdict(UserRecommendations)\n",
    "        \n",
    "    def setup(self, preds, k):\n",
    "        for entry in preds:\n",
    "            user = entry.uid\n",
    "            self.test_recs[user].add_entry(entry)\n",
    "                   \n",
    "        for user in self.test_recs.keys():\n",
    "            self.test_recs[user].select_top(k)\n",
    "            \n",
    "    def iter_recs(self):\n",
    "        for user in self.test_recs.keys():\n",
    "            yield (user, self.test_recs[user].recs)\n"
   ]
  },
  {
   "cell_type": "markdown",
   "id": "6051b88d-1f81-4a9b-ba4b-b157b14a3508",
   "metadata": {},
   "source": [
    "### Evaluator abstract classes"
   ]
  },
  {
   "cell_type": "code",
   "execution_count": 5,
   "id": "82784b92-c061-4ef7-ae99-73afe590e04e",
   "metadata": {},
   "outputs": [],
   "source": [
    "class Evaluator(ABC):\n",
    "    \n",
    "    def __init__(self):\n",
    "        self.results_table = None\n",
    "        self.score = None\n",
    "        \n",
    "    def setup(self, trainset, testset):\n",
    "        pass\n",
    "    \n",
    "    @abstractmethod\n",
    "    def evaluate_user(self, user, user_recs):\n",
    "        pass\n",
    "    \n",
    "    def evaluate(self, test_recs: TestRecommendations):\n",
    "        scores = []\n",
    "        self.results_table = {}\n",
    "        for user, recs in test_recs.iter_recs():\n",
    "            score = self.evaluate_user(user, recs)\n",
    "            scores.append(score)\n",
    "            self.results_table[user] = score\n",
    "        self.score = np.mean(scores)\n",
    "        \n",
    "class ItemwiseEvaluator(Evaluator):\n",
    "    \n",
    "    def __init__(self):\n",
    "        super().__init__()\n",
    "    \n",
    "    def evaluate_user(self, user, user_recs):\n",
    "        return np.mean([self.evaluate_pred(rec) for rec in user_recs])\n",
    "        \n",
    "    @abstractmethod\n",
    "    def evaluate_pred(self, pred: Prediction):\n",
    "        pass\n",
    "    \n",
    "class ListwiseEvaluator(Evaluator):\n",
    "    \n",
    "    def __init__(self):\n",
    "        super().__init__()\n",
    "    \n",
    "    @abstractmethod\n",
    "    def evaluate_user(self, user, user_recs):\n",
    "        pass"
   ]
  },
  {
   "cell_type": "markdown",
   "id": "8de547ea-8eb5-42ff-8312-ea91b4ae8e78",
   "metadata": {},
   "source": [
    "### NDCG"
   ]
  },
  {
   "cell_type": "code",
   "execution_count": 6,
   "id": "8ca45535-6d91-4d35-8be1-f1266d0d960a",
   "metadata": {},
   "outputs": [],
   "source": [
    "class NDCGEvaluator(ListwiseEvaluator):\n",
    "    \n",
    "    def __init__(self, threshold, k):\n",
    "        super().__init__()\n",
    "        self.rated_table = defaultdict(set)\n",
    "        self.threshold = threshold\n",
    "        self.idcg_table = {}\n",
    "        self.log_table = {}\n",
    "        self.list_len = k\n",
    "    \n",
    "    def setup(self, trainset, testset):\n",
    "        for user, item, rating in testset:\n",
    "            if float(rating) > self.threshold:\n",
    "                self.rated_table[user].add(item)\n",
    "        idcg = 0\n",
    "        for i in range(0, self.list_len+1):\n",
    "            self.idcg_table[i] = idcg\n",
    "            rank_utility = 1 / np.log(i+2)\n",
    "            self.log_table[i] = rank_utility\n",
    "            idcg += rank_utility\n",
    "            \n",
    "    \n",
    "    def evaluate_user(self, user, user_recs): \n",
    "        \n",
    "        dcg = 0.0\n",
    "        for i, pred in enumerate(user_recs):\n",
    "            if pred.iid in self.rated_table[user]:\n",
    "                dcg = self.log_table[i]\n",
    "        \n",
    "        idcg = 0\n",
    "        if len(self.rated_table[user]) >= self.list_len:\n",
    "               idcg = self.idcg_table[self.list_len]\n",
    "        else:\n",
    "               idcg = self.idcg_table[len(self.rated_table[user])]\n",
    "            \n",
    "        if idcg == 0:\n",
    "            return 0\n",
    "        return dcg/idcg\n",
    "                "
   ]
  },
  {
   "cell_type": "markdown",
   "id": "3aac9652-c075-4508-b98c-e6b4f7dcf06f",
   "metadata": {},
   "source": [
    "## Part 1: Novelty / Surprisal\n",
    "\n",
    "Implement an evaluation metric/function for per-user novelty. This will be a sub-class of the ItemwiseEvaluator metric defined above and in lab. The metric should measure the average entropy of the recommendation list. Let $k$ be the total number of ratings in the dataset. Let $k_i$ be the total number of ratings in the dataset for item $i$. Let $\\ell_u$ be the recommendation list for user $u$ consisting of some number of items. Novelty $\\nu_u$ is defined as the (smoothed) total entropy of the list:\n",
    "\n",
    "$\\nu_u = - \\sum_{i \\in \\ell_u} \\frac{k_i+1}{k} {log \\frac{k_i+1}{k}}$\n",
    "\n",
    "### Hints:\n",
    "\n",
    "* This is similar to PrecisionEvaluator from the Lab 2 extension.\n",
    "* We are computing the average rather than the sum (the original definition of the surprisal metric) because averaging of the per-prediction scores is built into our evaluation method. If this bothers you, use the ListwiseEvalutor base class and just compute the sum without averaging.\n",
    "* We are smoothing the feature count by adding one to all the counts. That means that an item that doesn't appear in the training set still has a count of 1 and so we don't have to worry about computing `log(0)` which is undefined.\n",
    "* You can create a global table of entropy values to make this more efficient but make sure that you handle the case where the item doesn't appear in the training data. It should still have $1/k$ as its frequency."
   ]
  },
  {
   "cell_type": "code",
   "execution_count": 141,
   "id": "ff9b4f64-4f25-4f28-bc4d-182de3f9143b",
   "metadata": {},
   "outputs": [],
   "source": [
    "class NoveltyEvaluator(ItemwiseEvaluator):\n",
    "    \n",
    "    def __init__(self):\n",
    "        super().__init__()\n",
    "        self.entropy_table = defaultdict(list)\n",
    "        self.min_entropy = int\n",
    "\n",
    "    \n",
    "    def setup(self, trainset, testset):\n",
    "        #count number of items in testset     \n",
    "        denom = len(testset)\n",
    "        self.min_entropy = -1/denom*np.log2(1/denom)\n",
    "        for user, item, rating in testset:\n",
    "            #count everytime an item has a rating in the tesset\n",
    "            test_i = 0\n",
    "            if item in testset:\n",
    "                test_i +=1\n",
    "            numer = test_i+1 \n",
    "            \n",
    "            entropy = -(numer/denom)*np.log2(numer/denom)\n",
    "            self.entropy_table[item].append(entropy)\n",
    "    \n",
    "    def evaluate_pred(self, pred: Prediction):\n",
    "        \n",
    "        entropy_values = self.entropy_table[pred.iid]\n",
    "\n",
    "        for entropy in entropy_values:\n",
    "            if entropy is not None:\n",
    "                return entropy\n",
    "        return self.min_entropy\n",
    "    \n",
    "    "
   ]
  },
  {
   "cell_type": "code",
   "execution_count": 8,
   "id": "364ee202-4960-43a1-a04d-71f8435b9e45",
   "metadata": {},
   "outputs": [],
   "source": []
  },
  {
   "cell_type": "markdown",
   "id": "85c7af2e-aeb4-41ab-82d2-e697304bf3cf",
   "metadata": {},
   "source": [
    "## Part 2: Diversity\n",
    "\n",
    "Implement a pairwise cosine diversity evaluator. You will use the tag genome scores from the MovieLens dataset. This is a vector of ~1100 scores that associate a movie with different manually assigned tags. (Think of it as a crowd-sourced embedding.) The formula is \n",
    "\n",
    "$D = 1 - \\frac{\\sum_{i, j \\in \\ell; i \\neq j}sim(i, j)}{|\\{i, j \\in \\ell; i \\neq j\\}|}$\n",
    "\n",
    "When $\\ell$ is a recommendation list, and $sim$ is the cosine of the tag representations of movies $i$ and $j$. The denominator of the fraction is just the count of the number of pairs so that you can compute the average. \n",
    "\n",
    "Hints: \n",
    "\n",
    "* Use the `setup` method to load the `sample-genome-scores.csv` file and create a lookup table mapping movie ids to a list of relevance scores. Note that every movie has a score for every tag\n",
    "\n",
    "* `itertools.combinations` is your friend."
   ]
  },
  {
   "cell_type": "code",
   "execution_count": 126,
   "id": "38e453b9-de3f-439d-9c65-1c4e851575b4",
   "metadata": {},
   "outputs": [],
   "source": [
    "from itertools import combinations\n",
    "from sklearn.metrics.pairwise import cosine_similarity\n",
    "#from icecream import ic\n",
    "\n",
    "class PairwiseCosineDiversityEvaluator(ListwiseEvaluator):\n",
    "    tag_data_path = 'Homework 2 data/sample-genome-scores.csv'\n",
    "    \n",
    "    def __init__(self):\n",
    "        super().__init__()\n",
    "        #self.table_of_sim = defaultdict(dict)\n",
    "        \n",
    "    def setup(self, trainset, testset):\n",
    "        tags_df = pd.read_csv(PairwiseCosineDiversityEvaluator.tag_data_path)\n",
    "\n",
    "\n",
    "    def tag_sim(self, tag1, tag2):\n",
    "        return cosine_similarity([tag1], [tag2])\n",
    "\n",
    "    def evaluate_user(self, user, user_recs):\n",
    "        diversity = 0\n",
    "        count=0\n",
    "        sims_sum=0\n",
    "        tag_combinations = combinations((pred.iid for pred in user_recs), 2)       \n",
    "        for tag1, tag2 in tag_combinations:\n",
    "            count +=1\n",
    "            item_tags1 = tags_df[tags_df['movieId'] == int(tag1)]['relevance'].values\n",
    "            item_tags2 = tags_df[tags_df['movieId'] == int(tag2)]['relevance'].values\n",
    "            if item_tags1.size > 0 and item_tags2.size > 0:\n",
    "                sim = self.tag_sim(item_tags1, item_tags2)\n",
    "                sims_sum += float(sim)\n",
    "                #ic(sims_sum)\n",
    "        diversity = 1-(sims_sum/count)\n",
    "        #ic(diversity)\n",
    "                \n",
    "                \n",
    "        return diversity\n"
   ]
  },
  {
   "cell_type": "code",
   "execution_count": 13,
   "id": "ffed79d4-70f2-4ac8-81bd-12a1bdc5e78d",
   "metadata": {},
   "outputs": [],
   "source": [
    "folds_files = [(f'Homework 2 data/train-{i}.csv', f'Homework 2 data/test-{i}.csv') for i in (1, 2, 3, 4, 5)]\n",
    "#folds_files = [('Homework 2 data/train-1.csv', 'Homework 2 data/test-1.csv')]"
   ]
  },
  {
   "cell_type": "code",
   "execution_count": 14,
   "id": "d72a5122-b2b0-4f44-8abc-0be04ab26449",
   "metadata": {
    "tags": []
   },
   "outputs": [],
   "source": [
    "reader = Reader(line_format='user item rating timestamp', sep=',', skip_lines=1)\n",
    "data = Dataset.load_from_folds(folds_files, reader=reader)"
   ]
  },
  {
   "cell_type": "code",
   "execution_count": null,
   "id": "e88f2cda-2768-4e94-8de4-5461a4d10a67",
   "metadata": {},
   "outputs": [],
   "source": []
  },
  {
   "cell_type": "markdown",
   "id": "6414e0c6-82ad-4d55-8a91-51058e3e0617",
   "metadata": {},
   "source": [
    "## Part 4: BaselineOnly\n",
    "\n",
    "Using the instance of the BaselineOnly algorithm defined below, evaluate nDCG, Surprisal and Diversity on all 5 folds of the data with a list size of 10.\n",
    "\n",
    "Produce a box-plot showing the distribution of values of each of the metrics. See my example attached."
   ]
  },
  {
   "cell_type": "code",
   "execution_count": 15,
   "id": "50c9e3ff-6bc3-4f32-a7ac-29fae6c2b149",
   "metadata": {},
   "outputs": [],
   "source": [
    "bsl_options = {\n",
    "    \"method\": \"sgd\",\n",
    "    \"learning_rate\": 0.001,\n",
    "}\n",
    "bsl = BaselineOnly(bsl_options=bsl_options)"
   ]
  },
  {
   "cell_type": "code",
   "execution_count": null,
   "id": "70701de4-f684-423c-9c6b-3d59a0321cdb",
   "metadata": {},
   "outputs": [],
   "source": [
    "evals = pd.DataFrame(columns = ['Fold', 'NDCG', 'Novelty', 'Diversity'])"
   ]
  },
  {
   "cell_type": "code",
   "execution_count": null,
   "id": "f33858d8-e0b1-439c-a78c-9aba238f824f",
   "metadata": {},
   "outputs": [
    {
     "name": "stdout",
     "output_type": "stream",
     "text": [
      "Estimating biases using sgd...\n"
     ]
    }
   ],
   "source": [
    "pkf = PredefinedKFold()\n",
    "\n",
    "fold = 0\n",
    "for trainset, testset in pkf.split(data):\n",
    "    fold += 1\n",
    "    extended_test_data = pickle.load( open(f\"extended_testset{fold}.p\", \"rb\" ))\n",
    "    \n",
    "\n",
    "    # Create evaluators\n",
    "    ndcg = NDCGEvaluator(2.5, 10)\n",
    "    novelty = NoveltyEvaluator()\n",
    "    diversity = PairwiseCosineDiversityEvaluator()\n",
    "    ndcg.setup(trainset, testset)\n",
    "    novelty.setup(trainset, testset)\n",
    "    diversity.setup(trainset, testset)\n",
    "    # Fit model and predict\n",
    "    bsl.fit(trainset)\n",
    "    preds = bsl.test(extended_test_data)\n",
    "    # Setup TestRecommendations object\n",
    "    trecs = TestRecommendations()\n",
    "    trecs.setup(preds, k=10)\n",
    "    # Evaluate\n",
    "    ndcg.evaluate(trecs)\n",
    "    novelty.evaluate(trecs)\n",
    "    diversity.evaluate(trecs)\n",
    "    # Print progress and save results\n",
    "    evals.loc[len(eval.index)]=[1, ndcg.score, novelty.score, diversity.score]\n",
    "    print(ndcg.score, novelty.score, diversity.score)\n",
    "    "
   ]
  },
  {
   "cell_type": "code",
   "execution_count": 134,
   "id": "82ada239-c996-4433-b498-3f301e06f078",
   "metadata": {},
   "outputs": [],
   "source": []
  },
  {
   "cell_type": "code",
   "execution_count": 136,
   "id": "a503ed1e-0907-426c-acde-d3a4cacc32dc",
   "metadata": {},
   "outputs": [],
   "source": []
  },
  {
   "cell_type": "code",
   "execution_count": 137,
   "id": "e07932e0-2ab3-49a3-889b-f80c02249cbe",
   "metadata": {},
   "outputs": [
    {
     "data": {
      "text/html": [
       "<div>\n",
       "<style scoped>\n",
       "    .dataframe tbody tr th:only-of-type {\n",
       "        vertical-align: middle;\n",
       "    }\n",
       "\n",
       "    .dataframe tbody tr th {\n",
       "        vertical-align: top;\n",
       "    }\n",
       "\n",
       "    .dataframe thead th {\n",
       "        text-align: right;\n",
       "    }\n",
       "</style>\n",
       "<table border=\"1\" class=\"dataframe\">\n",
       "  <thead>\n",
       "    <tr style=\"text-align: right;\">\n",
       "      <th></th>\n",
       "      <th>Fold</th>\n",
       "      <th>NDCG</th>\n",
       "      <th>Novelty</th>\n",
       "      <th>Diversity</th>\n",
       "    </tr>\n",
       "  </thead>\n",
       "  <tbody>\n",
       "    <tr>\n",
       "      <th>0</th>\n",
       "      <td>1.0</td>\n",
       "      <td>0.024841</td>\n",
       "      <td>0.003018</td>\n",
       "      <td>0.284325</td>\n",
       "    </tr>\n",
       "  </tbody>\n",
       "</table>\n",
       "</div>"
      ],
      "text/plain": [
       "   Fold      NDCG   Novelty  Diversity\n",
       "0   1.0  0.024841  0.003018   0.284325"
      ]
     },
     "execution_count": 137,
     "metadata": {},
     "output_type": "execute_result"
    }
   ],
   "source": [
    "evals"
   ]
  },
  {
   "cell_type": "code",
   "execution_count": 2,
   "id": "6a09a571-3621-4bed-b8e7-7b34e7a78cd3",
   "metadata": {},
   "outputs": [
    {
     "data": {
      "image/png": "[encoded data removed]",
      "text/plain": [
       "<Figure size 600x500 with 3 Axes>"
      ]
     },
     "metadata": {},
     "output_type": "display_data"
    }
   ],
   "source": [
    "import matplotlib.pyplot as plt\n",
    "\n",
    "fig, axes = plt.subplots(1, 3, figsize=(6,5))\n",
    "\n",
    "fig.tight_layout(pad=5.0)\n",
    "\n",
    "# plots here\n"
   ]
  },
  {
   "attachments": {
    "6477fc13-f14b-4fa9-94ef-39d0fb2df895.png": {
     "image/png": "[encoded data removed]"
    }
   },
   "cell_type": "markdown",
   "id": "fe1a3667-9cf1-4d26-8226-237b0253e39e",
   "metadata": {},
   "source": [
    "![image.png](attachment:6477fc13-f14b-4fa9-94ef-39d0fb2df895.png)"
   ]
  },
  {
   "cell_type": "markdown",
   "id": "9e953f6b-238e-444d-bc41-7e5b5d597c29",
   "metadata": {},
   "source": [
    "## Part 4: Evaluate SVD\n",
    "\n",
    "* Explore different numbers of factors (25, 50, 100).\n",
    "* Explore different regularization (reg_all) 0.02, 0.05, 0.1\n",
    "\n",
    "Note that you will not be able to use the built-in model selection tools in Surprise because it doesn't support our list-wise evaluation model. Use the same evaluation as above: surprisal, ndcg, and diversity."
   ]
  },
  {
   "cell_type": "markdown",
   "id": "5bca3fef-1e82-454d-b36a-037ed537bb04",
   "metadata": {},
   "source": [
    "First define a function to process a single fold of the data."
   ]
  },
  {
   "cell_type": "code",
   "execution_count": null,
   "id": "2aca174f-dfdc-406d-abaa-de0e39038f35",
   "metadata": {},
   "outputs": [],
   "source": [
    "def process_fold(fold, trainset, testset, algo):\n",
    "    print('Processing split...')\n",
    "    extended_test_data = pickle.load( open(f\"extended_testset{fold}.p\", \"rb\" ))\n",
    "    # Create and setup evaluators\n",
    "    ndcg = NDCGEvaluator(2.5, 10)\n",
    "    ndcg.setup(trainset, testset)\n",
    "    novelty.setup(trainset, testset)\n",
    "    diversity.setup(trainset, testset)\n",
    "    # Fit model and predict\n",
    "    algo.fit(trainset)\n",
    "    preds = algo.test(sampled_test)\n",
    "    print('Recommendations generated...')\n",
    "    # Setup TestRecommendations object\n",
    "    trecs = TestRecommendations()\n",
    "    trecs.setup(preds, k=10)\n",
    "    # Evaluate\n",
    "    novelty.evaluate(trecs)\n",
    "    diversity.evaluate(trecs)\n",
    "    ndcg.evaluate(trecs)\n",
    "    # Print progress and save results\n",
    "    \n",
    "    return (ndcg.score, novelty.score, diversity.score)\n",
    "\n",
    "    \n",
    "     \n",
    "    \n",
    "    \n",
    "    \n",
    "  \n",
    "    \n",
    "   \n",
    "    \n"
   ]
  },
  {
   "cell_type": "markdown",
   "id": "bb341630-798d-41b0-bdb8-0d3add0a003a",
   "metadata": {},
   "source": [
    "Using this function, go through all of the parameter configurations and all the folds and compute the predictions. Average over the folds to get a single score for each configuration of # factors and regularization weight. \n",
    "\n",
    "Hints\n",
    "- `itertools.product` is your friend\n",
    "- I strongly recommend saving (via pickle) the results so far at each iteration. That way if the process dies, you don't lose the work you've done.\n",
    "- This process took about 3 hours on CSEL when I ran it."
   ]
  },
  {
   "cell_type": "code",
   "execution_count": null,
   "id": "d3142d38-0eda-473c-aa55-602b4990c1dc",
   "metadata": {},
   "outputs": [],
   "source": [
    "pkf = PredefinedKFold()\n",
    "\n",
    "config_factors = [25, 50, 100]\n",
    "config_reg = [0.02, 0.05, 0.1]\n",
    "\n",
    "results = []\n",
    "\n",
    "for factors in config_factors:\n",
    "    for reg in config_reg:\n",
    "        for trainset, testset in pkf.split(data):\n",
    "            exp_evals = []\n",
    "            algo = SVD(n_factors=factors, reg_all=reg)\n",
    "            ndcg, novelty, diversity = process_fold(trainset, testset, algo)\n",
    "\n",
    "            print(f'Factors {factors} Novelty {novelty} nDCG {ndcg} Diversity {diversity}')\n",
    "            results.append({'factors': factors, 'precision': prec, 'ndcg': ndcg})"
   ]
  },
  {
   "cell_type": "markdown",
   "id": "f7d54343-eb4c-4ed4-944a-5c7d063b7a8d",
   "metadata": {},
   "source": [
    "## Interpretation\n",
    "\n",
    "Create a scatterplot of ndcg@10 vs diversity (averaged over the 5 folds) for the different algorithm settings. If you're using `seaborn`, which I recommend, you can use `hue` to represent the regularization value and `size` to represent the number of factors."
   ]
  },
  {
   "cell_type": "code",
   "execution_count": null,
   "id": "205f1fe0-de41-45f5-aaf2-fa38e006f21b",
   "metadata": {},
   "outputs": [],
   "source": []
  },
  {
   "cell_type": "code",
   "execution_count": null,
   "id": "e88fadb9-5551-4fb0-83cc-af4a4d3bc325",
   "metadata": {},
   "outputs": [],
   "source": []
  },
  {
   "cell_type": "markdown",
   "id": "531f1d4e-d69c-4429-a53e-4d11a8ad215f",
   "metadata": {},
   "source": [
    "Question: The larger number of factors and the smaller the regularization coefficient, the more complex the model. Do you think that the model is overfitting for the extreme values of these (100 factors, 0.02 regularization)? Explain and how does the plot demonstrate this?"
   ]
  },
  {
   "cell_type": "markdown",
   "id": "16dd8028-4fc7-4c9f-8390-088da1ea009c",
   "metadata": {},
   "source": [
    "Answer: _Answer here_"
   ]
  },
  {
   "cell_type": "markdown",
   "id": "420f340e-3805-41ab-bbe1-34a121d7d15c",
   "metadata": {},
   "source": [
    "Create a similar scatterplot with novelty and diversity. "
   ]
  },
  {
   "cell_type": "code",
   "execution_count": null,
   "id": "6bccddee-5187-4558-8c03-b9b7e72b8fb5",
   "metadata": {},
   "outputs": [],
   "source": []
  },
  {
   "cell_type": "markdown",
   "id": "d82275d4-da44-454c-9a44-21f785f373dd",
   "metadata": {},
   "source": [
    "Question: Note that the smaller the Novelty value, the more low probability items are in the recommendation list. In general, do lists with higher diversity have more of these low probability items? How do you know? Are there exceptions to this trend?"
   ]
  },
  {
   "cell_type": "markdown",
   "id": "c5b70780-4d3a-4516-abdd-915f5423e9f7",
   "metadata": {},
   "source": [
    "Answer: _Answer here_"
   ]
  },
  {
   "cell_type": "markdown",
   "id": "0dd476bf-b87d-4ad3-be33-2545b207d1bb",
   "metadata": {},
   "source": [
    "Question: If you were trying to tune this algorithm further for this dataset, what would you try next and why (assume that you are looking for a good balance of diversity and ranking accuracy)? (There is no right answer to this question. I'm interested in your thought process, so be clear about your reasoning!)"
   ]
  },
  {
   "cell_type": "markdown",
   "id": "5cb5d6c7-a127-4d6d-ad00-aefb69a31d6e",
   "metadata": {},
   "source": [
    "Answer: _Answer here_"
   ]
  },
  {
   "cell_type": "code",
   "execution_count": null,
   "id": "73cf5640-252e-4113-a697-448153ac3880",
   "metadata": {},
   "outputs": [],
   "source": []
  }
 ],
 "metadata": {
  "kernelspec": {
   "display_name": "Python 3 (ipykernel)",
   "language": "python",
   "name": "python3"
  },
  "language_info": {
   "codemirror_mode": {
    "name": "ipython",
    "version": 3
   },
   "file_extension": ".py",
   "mimetype": "text/x-python",
   "name": "python",
   "nbconvert_exporter": "python",
   "pygments_lexer": "ipython3",
   "version": "3.10.8"
  }
 },
 "nbformat": 4,
 "nbformat_minor": 5
}
